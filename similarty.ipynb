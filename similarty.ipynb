{
 "cells": [
  {
   "cell_type": "code",
   "execution_count": 8,
   "id": "5bf96ea8-13b3-4e18-a0e9-8b09ac49ccc0",
   "metadata": {},
   "outputs": [],
   "source": [
    "# !pip install transformers\n",
    "\n",
    "from transformers import AutoTokenizer, AutoModel\n",
    "import torch\n",
    "import torch.nn as nn\n",
    "import torch.nn.functional as F"
   ]
  },
  {
   "cell_type": "code",
   "execution_count": 9,
   "id": "8d7d4d59-f307-4459-85dd-f80702297245",
   "metadata": {},
   "outputs": [
    {
     "name": "stderr",
     "output_type": "stream",
     "text": [
      "Some weights of the model checkpoint at bert-base-uncased were not used when initializing BertModel: ['cls.predictions.bias', 'cls.seq_relationship.bias', 'cls.predictions.decoder.weight', 'cls.predictions.transform.dense.weight', 'cls.seq_relationship.weight', 'cls.predictions.transform.LayerNorm.weight', 'cls.predictions.transform.LayerNorm.bias', 'cls.predictions.transform.dense.bias']\n",
      "- This IS expected if you are initializing BertModel from the checkpoint of a model trained on another task or with another architecture (e.g. initializing a BertForSequenceClassification model from a BertForPreTraining model).\n",
      "- This IS NOT expected if you are initializing BertModel from the checkpoint of a model that you expect to be exactly identical (initializing a BertForSequenceClassification model from a BertForSequenceClassification model).\n"
     ]
    }
   ],
   "source": [
    "tokenizer = AutoTokenizer.from_pretrained(\"bert-base-uncased\")\n",
    "# model = AutoModel.from_pretrained(\"bert-base-uncased\")\n",
    "# Load the BERT model\n",
    "model = AutoModel.from_pretrained(\"bert-base-uncased\").eval()"
   ]
  },
  {
   "cell_type": "code",
   "execution_count": 19,
   "id": "2f855374-98e1-4a8f-aa14-4c8e665a2e0b",
   "metadata": {},
   "outputs": [],
   "source": [
    "sentence = \"I want to borrow money\"\n",
    "encoded_sentence = torch.stack([torch.Tensor(tokenizer.encode(sentence, add_special_tokens=True))])\n",
    "mean_sentence_embedding = encoded_sentence.mean(dim=1).squeeze()"
   ]
  },
  {
   "cell_type": "code",
   "execution_count": 20,
   "id": "6f823018-fe5d-4352-a474-fa4655c442d9",
   "metadata": {},
   "outputs": [],
   "source": [
    "# Tokenize the input sentence\n",
    "input_ids = torch.tensor(tokenizer.encode(sentence)).unsqueeze(0)"
   ]
  },
  {
   "cell_type": "code",
   "execution_count": 21,
   "id": "98f00aa1-42fd-4665-a5c6-5b7b4f363a5e",
   "metadata": {},
   "outputs": [],
   "source": [
    "# Calculate the sentence embedding\n",
    "with torch.no_grad():\n",
    "    outputs = model(input_ids)\n",
    "    encoded_sentence = outputs[0][0][0]"
   ]
  },
  {
   "cell_type": "code",
   "execution_count": 28,
   "id": "2442c869-2e07-4037-8d58-c51a6a5a62e3",
   "metadata": {},
   "outputs": [],
   "source": [
    "# Calculate the word embeddings for the similar words\n",
    "similar_words = [\"borrow\", \"lend\"]\n",
    "word_embeddings = []"
   ]
  },
  {
   "cell_type": "code",
   "execution_count": 29,
   "id": "b0338685-06b0-4566-a905-af8b2c4e448d",
   "metadata": {},
   "outputs": [],
   "source": [
    "# Calculate the word embeddings for the similar words\n",
    "for word in similar_words:\n",
    "    word = torch.tensor(tokenizer.encode(word)).unsqueeze(0)\n",
    "    with torch.no_grad():\n",
    "        outputs = model(word)\n",
    "        word_embedding = outputs[0][0][0]\n",
    "    word_embeddings.append(word_embedding)"
   ]
  },
  {
   "cell_type": "code",
   "execution_count": 30,
   "id": "08e7513b-de10-4045-bb6b-f7fb5c603165",
   "metadata": {},
   "outputs": [
    {
     "name": "stdout",
     "output_type": "stream",
     "text": [
      "tensor([0.9260])\n",
      "tensor([0.9248])\n"
     ]
    }
   ],
   "source": [
    "# Calculate the cosine similarity between the sentence and each word\n",
    "for word_embedding in word_embeddings:\n",
    "    cosine_similarity = nn.functional.cosine_similarity(encoded_sentence.unsqueeze(0), word_embedding.unsqueeze(0))\n",
    "    print(cosine_similarity)"
   ]
  },
  {
   "cell_type": "code",
   "execution_count": null,
   "id": "47278c3c-1549-45f3-9cb8-6e90fabdc6f0",
   "metadata": {},
   "outputs": [],
   "source": []
  }
 ],
 "metadata": {
  "kernelspec": {
   "display_name": "Python 3 (ipykernel)",
   "language": "python",
   "name": "python3"
  },
  "language_info": {
   "codemirror_mode": {
    "name": "ipython",
    "version": 3
   },
   "file_extension": ".py",
   "mimetype": "text/x-python",
   "name": "python",
   "nbconvert_exporter": "python",
   "pygments_lexer": "ipython3",
   "version": "3.8.9"
  }
 },
 "nbformat": 4,
 "nbformat_minor": 5
}
